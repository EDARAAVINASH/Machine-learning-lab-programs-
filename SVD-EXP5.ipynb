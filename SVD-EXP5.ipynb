{
 "cells": [
  {
   "cell_type": "code",
   "execution_count": 57,
   "id": "94eea458",
   "metadata": {},
   "outputs": [],
   "source": [
    "import numpy as np\n",
    "from numpy.linalg import eigh, norm"
   ]
  },
  {
   "cell_type": "code",
   "execution_count": 58,
   "id": "93bb6f34",
   "metadata": {},
   "outputs": [],
   "source": [
    "# Define your input matrix A (3x3)"
   ]
  },
  {
   "cell_type": "code",
   "execution_count": 59,
   "id": "40bcfb2c",
   "metadata": {},
   "outputs": [],
   "source": [
    "A = np.array([[2,0,0],\n",
    "              [2,1,0],\n",
    "              [0,-2,0]])"
   ]
  },
  {
   "cell_type": "code",
   "execution_count": 60,
   "id": "ec6ce9f2",
   "metadata": {},
   "outputs": [
    {
     "data": {
      "text/plain": [
       "array([[ 2,  0,  0],\n",
       "       [ 2,  1,  0],\n",
       "       [ 0, -2,  0]])"
      ]
     },
     "execution_count": 60,
     "metadata": {},
     "output_type": "execute_result"
    }
   ],
   "source": [
    "A"
   ]
  },
  {
   "cell_type": "code",
   "execution_count": 61,
   "id": "239c2dd7",
   "metadata": {},
   "outputs": [],
   "source": [
    "# Step 1: Calculate A^T * A"
   ]
  },
  {
   "cell_type": "code",
   "execution_count": 62,
   "id": "c30ba27d",
   "metadata": {},
   "outputs": [],
   "source": [
    "ATA = A.T.dot(A)"
   ]
  },
  {
   "cell_type": "code",
   "execution_count": 63,
   "id": "508a8fb1",
   "metadata": {},
   "outputs": [
    {
     "data": {
      "text/plain": [
       "array([[8, 2, 0],\n",
       "       [2, 5, 0],\n",
       "       [0, 0, 0]])"
      ]
     },
     "execution_count": 63,
     "metadata": {},
     "output_type": "execute_result"
    }
   ],
   "source": [
    "ATA = A.T.dot(A)\n",
    "ATA "
   ]
  },
  {
   "cell_type": "code",
   "execution_count": 64,
   "id": "1f0001d4",
   "metadata": {},
   "outputs": [],
   "source": [
    "# Step 2: Calculate the eigenvalues and eigenvectors of ATA using eigh\n"
   ]
  },
  {
   "cell_type": "code",
   "execution_count": 65,
   "id": "8d73707f",
   "metadata": {},
   "outputs": [],
   "source": [
    "ATA = A.T.dot(A)\n",
    "ATA \n",
    "eigenvalues_ATA, eigenvectors_ATA = eigh(ATA)"
   ]
  },
  {
   "cell_type": "code",
   "execution_count": 66,
   "id": "14859b43",
   "metadata": {},
   "outputs": [
    {
     "data": {
      "text/plain": [
       "(array([0., 4., 9.]),\n",
       " array([[ 0.        ,  0.4472136 , -0.89442719],\n",
       "        [ 0.        , -0.89442719, -0.4472136 ],\n",
       "        [ 1.        ,  0.        , -0.        ]]))"
      ]
     },
     "execution_count": 66,
     "metadata": {},
     "output_type": "execute_result"
    }
   ],
   "source": [
    "ATA = A.T.dot(A)\n",
    "ATA \n",
    "eigenvalues_ATA, eigenvectors_ATA = eigh(ATA)\n",
    "eigenvalues_ATA, eigenvectors_ATA"
   ]
  },
  {
   "cell_type": "code",
   "execution_count": 67,
   "id": "467921ec",
   "metadata": {},
   "outputs": [],
   "source": [
    "# Step 3: Sort eigenvalues and eigenvectors in descending order"
   ]
  },
  {
   "cell_type": "code",
   "execution_count": 68,
   "id": "cde28187",
   "metadata": {},
   "outputs": [],
   "source": [
    "ATA = A.T.dot(A)\n",
    "ATA \n",
    "eigenvalues_ATA, eigenvectors_ATA = eigh(ATA)\n",
    "eigenvalues_ATA, eigenvectors_ATA\n",
    "sorted_indices = np.argsort(eigenvalues_ATA)[::-1]\n",
    "eigenvalues_ATA = eigenvalues_ATA[sorted_indices]\n",
    "eigenvectors_ATA = eigenvectors_ATA[:, sorted_indices]"
   ]
  },
  {
   "cell_type": "code",
   "execution_count": 69,
   "id": "0911e731",
   "metadata": {},
   "outputs": [],
   "source": [
    "# Step 4: Calculate singular values from the square root of eigenvalues"
   ]
  },
  {
   "cell_type": "code",
   "execution_count": 70,
   "id": "56996c50",
   "metadata": {},
   "outputs": [],
   "source": [
    "ATA = A.T.dot(A)\n",
    "ATA \n",
    "eigenvalues_ATA, eigenvectors_ATA = eigh(ATA)\n",
    "eigenvalues_ATA, eigenvectors_ATA\n",
    "sorted_indices = np.argsort(eigenvalues_ATA)[::-1]\n",
    "eigenvalues_ATA = eigenvalues_ATA[sorted_indices]\n",
    "eigenvectors_ATA = eigenvectors_ATA[:, sorted_indices]\n",
    "singular_values = np.sqrt(eigenvalues_ATA)"
   ]
  },
  {
   "cell_type": "code",
   "execution_count": 71,
   "id": "44cdfeaf",
   "metadata": {},
   "outputs": [
    {
     "data": {
      "text/plain": [
       "array([3., 2., 0.])"
      ]
     },
     "execution_count": 71,
     "metadata": {},
     "output_type": "execute_result"
    }
   ],
   "source": [
    "ATA = A.T.dot(A)\n",
    "ATA \n",
    "eigenvalues_ATA, eigenvectors_ATA = eigh(ATA)\n",
    "eigenvalues_ATA, eigenvectors_ATA\n",
    "sorted_indices = np.argsort(eigenvalues_ATA)[::-1]\n",
    "eigenvalues_ATA = eigenvalues_ATA[sorted_indices]\n",
    "eigenvectors_ATA = eigenvectors_ATA[:, sorted_indices]\n",
    "singular_values = np.sqrt(eigenvalues_ATA)\n",
    "singular_values"
   ]
  },
  {
   "cell_type": "code",
   "execution_count": 72,
   "id": "387b4c84",
   "metadata": {},
   "outputs": [],
   "source": [
    "# Step 5: Create the diagonal matrix S (3x3)"
   ]
  },
  {
   "cell_type": "code",
   "execution_count": 73,
   "id": "0a5a5153",
   "metadata": {},
   "outputs": [],
   "source": [
    "ATA = A.T.dot(A)\n",
    "ATA \n",
    "eigenvalues_ATA, eigenvectors_ATA = eigh(ATA)\n",
    "eigenvalues_ATA, eigenvectors_ATA\n",
    "sorted_indices = np.argsort(eigenvalues_ATA)[::-1]\n",
    "eigenvalues_ATA = eigenvalues_ATA[sorted_indices]\n",
    "eigenvectors_ATA = eigenvectors_ATA[:, sorted_indices]\n",
    "singular_values = np.sqrt(eigenvalues_ATA)\n",
    "singular_values\n",
    "S = np.zeros_like(A, dtype=float)\n",
    "S[:A.shape[0], :A.shape[1]] = np.diag(singular_values)"
   ]
  },
  {
   "cell_type": "code",
   "execution_count": 74,
   "id": "3842d196",
   "metadata": {},
   "outputs": [
    {
     "data": {
      "text/plain": [
       "array([[3., 0., 0.],\n",
       "       [0., 2., 0.],\n",
       "       [0., 0., 0.]])"
      ]
     },
     "execution_count": 74,
     "metadata": {},
     "output_type": "execute_result"
    }
   ],
   "source": [
    "ATA = A.T.dot(A)\n",
    "ATA \n",
    "eigenvalues_ATA, eigenvectors_ATA = eigh(ATA)\n",
    "eigenvalues_ATA, eigenvectors_ATA\n",
    "sorted_indices = np.argsort(eigenvalues_ATA)[::-1]\n",
    "eigenvalues_ATA = eigenvalues_ATA[sorted_indices]\n",
    "eigenvectors_ATA = eigenvectors_ATA[:, sorted_indices]\n",
    "singular_values = np.sqrt(eigenvalues_ATA)\n",
    "singular_values\n",
    "S = np.zeros_like(A, dtype=float)\n",
    "S[:A.shape[0], :A.shape[1]] = np.diag(singular_values)\n",
    "S[:A.shape[0], :A.shape[1]]"
   ]
  },
  {
   "cell_type": "code",
   "execution_count": 75,
   "id": "51ca0e5c",
   "metadata": {},
   "outputs": [],
   "source": [
    "# Step 6: Calculate U from A and the eigenvectors of ATA"
   ]
  },
  {
   "cell_type": "code",
   "execution_count": 76,
   "id": "521fdf52",
   "metadata": {},
   "outputs": [],
   "source": [
    "ATA = A.T.dot(A)\n",
    "ATA \n",
    "eigenvalues_ATA, eigenvectors_ATA = eigh(ATA)\n",
    "eigenvalues_ATA, eigenvectors_ATA\n",
    "sorted_indices = np.argsort(eigenvalues_ATA)[::-1]\n",
    "eigenvalues_ATA = eigenvalues_ATA[sorted_indices]\n",
    "eigenvectors_ATA = eigenvectors_ATA[:, sorted_indices]\n",
    "singular_values = np.sqrt(eigenvalues_ATA)\n",
    "singular_values\n",
    "S = np.zeros_like(A, dtype=float)\n",
    "S[:A.shape[0], :A.shape[1]] = np.diag(singular_values)\n",
    "S[:A.shape[0], :A.shape[1]]\n",
    "U = A.dot(eigenvectors_ATA)"
   ]
  },
  {
   "cell_type": "code",
   "execution_count": 77,
   "id": "204d38e5",
   "metadata": {},
   "outputs": [],
   "source": [
    "# Normalize U to make it an orthonormal matrix\n"
   ]
  },
  {
   "cell_type": "code",
   "execution_count": 78,
   "id": "29347340",
   "metadata": {},
   "outputs": [
    {
     "name": "stderr",
     "output_type": "stream",
     "text": [
      "C:\\Users\\avinash\\AppData\\Local\\Temp\\ipykernel_1816\\4239885122.py:1: RuntimeWarning: invalid value encountered in divide\n",
      "  U /= norm(U, axis=0)\n"
     ]
    }
   ],
   "source": [
    "ATA = A.T.dot(A)\n",
    "ATA \n",
    "eigenvalues_ATA, eigenvectors_ATA = eigh(ATA)\n",
    "eigenvalues_ATA, eigenvectors_ATA\n",
    "sorted_indices = np.argsort(eigenvalues_ATA)[::-1]\n",
    "eigenvalues_ATA = eigenvalues_ATA[sorted_indices]\n",
    "eigenvectors_ATA = eigenvectors_ATA[:, sorted_indices]\n",
    "singular_values = np.sqrt(eigenvalues_ATA)\n",
    "singular_values\n",
    "S = np.zeros_like(A, dtype=float)\n",
    "S[:A.shape[0], :A.shape[1]] = np.diag(singular_values)\n",
    "S[:A.shape[0], :A.shape[1]]\n",
    "U = A.dot(eigenvectors_ATA)\n",
    "U /= norm(U, axis=0)"
   ]
  },
  {
   "cell_type": "code",
   "execution_count": 79,
   "id": "b57df6b5",
   "metadata": {},
   "outputs": [],
   "source": [
    "# Step 7: Calculate Vt (transpose of V) from the eigenvectors of ATA"
   ]
  },
  {
   "cell_type": "code",
   "execution_count": 80,
   "id": "c0db46e6",
   "metadata": {},
   "outputs": [],
   "source": [
    "ATA = A.T.dot(A)\n",
    "ATA \n",
    "eigenvalues_ATA, eigenvectors_ATA = eigh(ATA)\n",
    "eigenvalues_ATA, eigenvectors_ATA\n",
    "sorted_indices = np.argsort(eigenvalues_ATA)[::-1]\n",
    "eigenvalues_ATA = eigenvalues_ATA[sorted_indices]\n",
    "eigenvectors_ATA = eigenvectors_ATA[:, sorted_indices]\n",
    "singular_values = np.sqrt(eigenvalues_ATA)\n",
    "singular_values\n",
    "S = np.zeros_like(A, dtype=float)\n",
    "S[:A.shape[0], :A.shape[1]] = np.diag(singular_values)\n",
    "S[:A.shape[0], :A.shape[1]]\n",
    "U = A.dot(eigenvectors_ATA)\n",
    "U /= norm(U, axis=0)\n",
    "Vt = eigenvectors_ATA.T\n",
    "\n"
   ]
  },
  {
   "cell_type": "code",
   "execution_count": 81,
   "id": "0f3a98d6",
   "metadata": {},
   "outputs": [],
   "source": [
    "# Print the matrices U, S, and Vt\n"
   ]
  },
  {
   "cell_type": "code",
   "execution_count": 83,
   "id": "f69923e7",
   "metadata": {},
   "outputs": [
    {
     "name": "stdout",
     "output_type": "stream",
     "text": [
      "Matrix U (3x3):\n",
      "[[-0.59628479  0.4472136          nan]\n",
      " [-0.74535599  0.                 nan]\n",
      " [ 0.2981424   0.89442719         nan]]\n",
      "\n",
      "Matrix S (3x3):\n",
      "[[3. 0. 0.]\n",
      " [0. 2. 0.]\n",
      " [0. 0. 0.]]\n",
      "\n",
      "Matrix Vt (3x3):\n",
      "[[-0.89442719 -0.4472136  -0.        ]\n",
      " [ 0.4472136  -0.89442719  0.        ]\n",
      " [ 0.          0.          1.        ]]\n"
     ]
    },
    {
     "name": "stderr",
     "output_type": "stream",
     "text": [
      "C:\\Users\\avinash\\AppData\\Local\\Temp\\ipykernel_1816\\3138158194.py:14: RuntimeWarning: invalid value encountered in divide\n",
      "  U /= norm(U, axis=0)\n"
     ]
    }
   ],
   "source": [
    "ATA = A.T.dot(A)\n",
    "ATA \n",
    "eigenvalues_ATA, eigenvectors_ATA = eigh(ATA)\n",
    "eigenvalues_ATA, eigenvectors_ATA\n",
    "sorted_indices = np.argsort(eigenvalues_ATA)[::-1]\n",
    "eigenvalues_ATA = eigenvalues_ATA[sorted_indices]\n",
    "eigenvectors_ATA = eigenvectors_ATA[:, sorted_indices]\n",
    "singular_values = np.sqrt(eigenvalues_ATA)\n",
    "singular_values\n",
    "S = np.zeros_like(A, dtype=float)\n",
    "S[:A.shape[0], :A.shape[1]] = np.diag(singular_values)\n",
    "S[:A.shape[0], :A.shape[1]]\n",
    "U = A.dot(eigenvectors_ATA)\n",
    "U /= norm(U, axis=0)\n",
    "Vt = eigenvectors_ATA.T\n",
    "\n",
    "\n",
    "print(\"Matrix U (3x3):\")\n",
    "print(U)\n",
    "print(\"\\nMatrix S (3x3):\")\n",
    "print(S)\n",
    "print(\"\\nMatrix Vt (3x3):\")\n",
    "print(Vt)"
   ]
  },
  {
   "cell_type": "code",
   "execution_count": null,
   "id": "40503cb5",
   "metadata": {},
   "outputs": [],
   "source": []
  }
 ],
 "metadata": {
  "kernelspec": {
   "display_name": "Python 3 (ipykernel)",
   "language": "python",
   "name": "python3"
  },
  "language_info": {
   "codemirror_mode": {
    "name": "ipython",
    "version": 3
   },
   "file_extension": ".py",
   "mimetype": "text/x-python",
   "name": "python",
   "nbconvert_exporter": "python",
   "pygments_lexer": "ipython3",
   "version": "3.10.9"
  }
 },
 "nbformat": 4,
 "nbformat_minor": 5
}
