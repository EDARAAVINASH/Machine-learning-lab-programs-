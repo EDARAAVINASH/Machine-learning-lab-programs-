{
 "cells": [
  {
   "cell_type": "code",
   "execution_count": 2,
   "id": "3e151c56",
   "metadata": {},
   "outputs": [],
   "source": [
    "import numpy as np\n",
    "from numpy.linalg import norm,eigh"
   ]
  },
  {
   "cell_type": "code",
   "execution_count": 9,
   "id": "2ab9d0f3",
   "metadata": {},
   "outputs": [
    {
     "name": "stdout",
     "output_type": "stream",
     "text": [
      "[[ 2  0  0]\n",
      " [ 2  1  0]\n",
      " [ 0 -2  0]]\n"
     ]
    }
   ],
   "source": [
    "A=np.array([[2,0,0],\n",
    "    [2,1,0],\n",
    "    [0,-2,0]])\n",
    "print(A)"
   ]
  },
  {
   "cell_type": "code",
   "execution_count": 11,
   "id": "2d8739b0",
   "metadata": {},
   "outputs": [
    {
     "data": {
      "text/plain": [
       "array([[8, 2, 0],\n",
       "       [2, 5, 0],\n",
       "       [0, 0, 0]])"
      ]
     },
     "execution_count": 11,
     "metadata": {},
     "output_type": "execute_result"
    }
   ],
   "source": [
    "ATA=A.T.dot(A)\n",
    "ATA"
   ]
  },
  {
   "cell_type": "code",
   "execution_count": 12,
   "id": "3590408e",
   "metadata": {},
   "outputs": [
    {
     "data": {
      "text/plain": [
       "(array([0., 4., 9.]),\n",
       " array([[ 0.        ,  0.4472136 , -0.89442719],\n",
       "        [ 0.        , -0.89442719, -0.4472136 ],\n",
       "        [ 1.        ,  0.        , -0.        ]]))"
      ]
     },
     "execution_count": 12,
     "metadata": {},
     "output_type": "execute_result"
    }
   ],
   "source": [
    "eighvalues_ATA,eighvectors_ATA=eigh(ATA)\n",
    "eighvalues_ATA,eighvectors_ATA"
   ]
  },
  {
   "cell_type": "code",
   "execution_count": 13,
   "id": "ff4a91eb",
   "metadata": {},
   "outputs": [],
   "source": [
    "sorted_indices=np.argsort(eighvalues_ATA)[::-1]\n",
    "eighvalues_ATA=eighvalues_ATA[sorted_indices]\n",
    "eighvectors_ATA=eighvectors_ATA[:,sorted_indices]"
   ]
  },
  {
   "cell_type": "code",
   "execution_count": 14,
   "id": "ea8e06d0",
   "metadata": {},
   "outputs": [
    {
     "data": {
      "text/plain": [
       "(array([9., 4., 0.]),\n",
       " array([[-0.89442719,  0.4472136 ,  0.        ],\n",
       "        [-0.4472136 , -0.89442719,  0.        ],\n",
       "        [-0.        ,  0.        ,  1.        ]]))"
      ]
     },
     "execution_count": 14,
     "metadata": {},
     "output_type": "execute_result"
    }
   ],
   "source": [
    "eighvalues_ATA,eighvectors_ATA"
   ]
  },
  {
   "cell_type": "code",
   "execution_count": 15,
   "id": "1c40db53",
   "metadata": {},
   "outputs": [
    {
     "data": {
      "text/plain": [
       "array([3., 2., 0.])"
      ]
     },
     "execution_count": 15,
     "metadata": {},
     "output_type": "execute_result"
    }
   ],
   "source": [
    "singular_values=np.sqrt(eighvalues_ATA)\n",
    "singular_values"
   ]
  },
  {
   "cell_type": "code",
   "execution_count": 17,
   "id": "6d4c0958",
   "metadata": {},
   "outputs": [],
   "source": [
    "s=np.zeros_like(A,dtype=float)\n",
    "s[:A.shape[0],:A.shape[1]]=np.diag(singular_values)"
   ]
  },
  {
   "cell_type": "code",
   "execution_count": 18,
   "id": "f57833a7",
   "metadata": {},
   "outputs": [
    {
     "data": {
      "text/plain": [
       "array([[3., 0., 0.],\n",
       "       [0., 2., 0.],\n",
       "       [0., 0., 0.]])"
      ]
     },
     "execution_count": 18,
     "metadata": {},
     "output_type": "execute_result"
    }
   ],
   "source": [
    "s[:A.shape[0],:A.shape[1]]"
   ]
  },
  {
   "cell_type": "code",
   "execution_count": 26,
   "id": "28a40bb8",
   "metadata": {},
   "outputs": [
    {
     "name": "stderr",
     "output_type": "stream",
     "text": [
      "C:\\Users\\avinash\\AppData\\Local\\Temp\\ipykernel_1932\\3705263765.py:2: RuntimeWarning: invalid value encountered in divide\n",
      "  u/=norm(u,axis=0)\n"
     ]
    }
   ],
   "source": [
    "u=A.dot(eighvectors_ATA)\n",
    "u/=norm(u,axis=0)\n",
    "vt=eighvectors_ATA.T"
   ]
  },
  {
   "cell_type": "code",
   "execution_count": 23,
   "id": "3a50f63d",
   "metadata": {},
   "outputs": [
    {
     "data": {
      "text/plain": [
       "array([[3., 0., 0.],\n",
       "       [0., 2., 0.],\n",
       "       [0., 0., 0.]])"
      ]
     },
     "execution_count": 23,
     "metadata": {},
     "output_type": "execute_result"
    }
   ],
   "source": [
    "s"
   ]
  },
  {
   "cell_type": "code",
   "execution_count": 27,
   "id": "6961693d",
   "metadata": {},
   "outputs": [
    {
     "data": {
      "text/plain": [
       "array([[-0.89442719, -0.4472136 , -0.        ],\n",
       "       [ 0.4472136 , -0.89442719,  0.        ],\n",
       "       [ 0.        ,  0.        ,  1.        ]])"
      ]
     },
     "execution_count": 27,
     "metadata": {},
     "output_type": "execute_result"
    }
   ],
   "source": [
    "vt"
   ]
  },
  {
   "cell_type": "code",
   "execution_count": 25,
   "id": "4c686976",
   "metadata": {},
   "outputs": [
    {
     "data": {
      "text/plain": [
       "array([[-0.59628479,  0.4472136 ,         nan],\n",
       "       [-0.74535599,  0.        ,         nan],\n",
       "       [ 0.2981424 ,  0.89442719,         nan]])"
      ]
     },
     "execution_count": 25,
     "metadata": {},
     "output_type": "execute_result"
    }
   ],
   "source": [
    "u"
   ]
  }
 ],
 "metadata": {
  "kernelspec": {
   "display_name": "Python 3 (ipykernel)",
   "language": "python",
   "name": "python3"
  },
  "language_info": {
   "codemirror_mode": {
    "name": "ipython",
    "version": 3
   },
   "file_extension": ".py",
   "mimetype": "text/x-python",
   "name": "python",
   "nbconvert_exporter": "python",
   "pygments_lexer": "ipython3",
   "version": "3.10.9"
  }
 },
 "nbformat": 4,
 "nbformat_minor": 5
}
